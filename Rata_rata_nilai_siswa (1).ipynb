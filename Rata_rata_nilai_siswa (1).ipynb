{
  "nbformat": 4,
  "nbformat_minor": 0,
  "metadata": {
    "colab": {
      "provenance": []
    },
    "kernelspec": {
      "name": "python3",
      "display_name": "Python 3"
    },
    "language_info": {
      "name": "python"
    }
  },
  "cells": [
    {
      "cell_type": "code",
      "source": [
        "def faktorial(n):\n",
        "    if n == 0:\n",
        "        return 1\n",
        "    else:\n",
        "        return n * faktorial(n - 1)\n",
        "\n",
        "# Contoh penggunaan\n",
        "angka = int(input(\"Masukkan angka: \"))\n",
        "print(f\"Faktorial dari {angka} adalah {faktorial(angka)}\")"
      ],
      "metadata": {
        "colab": {
          "base_uri": "https://localhost:8080/"
        },
        "id": "F2frq_LG5O2L",
        "outputId": "fe0816eb-bcd8-4480-c5b4-792bef6d4acc"
      },
      "execution_count": 5,
      "outputs": [
        {
          "output_type": "stream",
          "name": "stdout",
          "text": [
            "Masukkan angka: 12\n",
            "Faktorial dari 12 adalah 479001600\n"
          ]
        }
      ]
    }
  ]
}
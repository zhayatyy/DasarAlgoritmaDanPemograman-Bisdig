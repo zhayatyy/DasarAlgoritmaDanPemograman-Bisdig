{
  "nbformat": 4,
  "nbformat_minor": 0,
  "metadata": {
    "colab": {
      "provenance": []
    },
    "kernelspec": {
      "name": "python3",
      "display_name": "Python 3"
    },
    "language_info": {
      "name": "python"
    }
  },
  "cells": [
    {
      "cell_type": "code",
      "execution_count": 1,
      "metadata": {
        "colab": {
          "base_uri": "https://localhost:8080/"
        },
        "id": "O2brua4z9v-K",
        "outputId": "c9502290-b516-4e59-caba-5aab92bb1261"
      },
      "outputs": [
        {
          "output_type": "stream",
          "name": "stdout",
          "text": [
            "Masukkan nilai siswa ke-1: 80\n",
            "Masukkan nilai siswa ke-2: 86\n",
            "Masukkan nilai siswa ke-3: 90\n",
            "Masukkan nilai siswa ke-4: 76\n",
            "Masukkan nilai siswa ke-5: 89\n",
            "Nilai tertinggi adalah: 90\n",
            "Didapatkan oleh siswa ke-3\n"
          ]
        }
      ],
      "source": [
        "# Inisialisasi list kosong\n",
        "nilai_siswa = []\n",
        "\n",
        "# Input nilai 5 siswa\n",
        "for i in range(5):\n",
        "    nilai = int(input(f\"Masukkan nilai siswa ke-{i+1}: \"))\n",
        "    nilai_siswa.append(nilai)\n",
        "\n",
        "# Mencari nilai tertinggi\n",
        "nilai_tertinggi = max(nilai_siswa)\n",
        "siswa_pemilik_nilai_tertinggi = nilai_siswa.index(nilai_tertinggi) + 1\n",
        "\n",
        "# Tampilkan hasil\n",
        "print(f\"Nilai tertinggi adalah: {nilai_tertinggi}\")\n",
        "print(f\"Didapatkan oleh siswa ke-{siswa_pemilik_nilai_tertinggi}\")"
      ]
    }
  ]
}